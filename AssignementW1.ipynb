{
 "cells": [
  {
   "cell_type": "code",
   "execution_count": 58,
   "id": "71b68564-860c-489c-8695-bb9002bf6f48",
   "metadata": {},
   "outputs": [
    {
     "data": {
      "text/plain": [
       "True"
      ]
     },
     "execution_count": 58,
     "metadata": {},
     "output_type": "execute_result"
    }
   ],
   "source": [
    "import os\n",
    "import json\n",
    "from tqdm.auto import tqdm\n",
    "from dotenv import load_dotenv\n",
    "\n",
    "import minsearch\n",
    "from openai import OpenAI\n",
    "\n",
    "import tiktoken\n",
    "\n",
    "load_dotenv() "
   ]
  },
  {
   "cell_type": "code",
   "execution_count": 26,
   "id": "4026aec4-74cb-49e1-bb24-f211b0ec7cc9",
   "metadata": {},
   "outputs": [],
   "source": [
    "with open(\"documents.json\",'rt') as f:\n",
    "    docs_raw = json.load(f)"
   ]
  },
  {
   "cell_type": "code",
   "execution_count": 27,
   "id": "948c244a-f137-4807-9eab-556de9876057",
   "metadata": {},
   "outputs": [],
   "source": [
    "documents = []\n",
    "\n",
    "for course_dict in docs_raw:\n",
    "    for doc in course_dict['documents']:\n",
    "        doc['course'] = course_dict['course']\n",
    "        documents.append(doc)"
   ]
  },
  {
   "cell_type": "code",
   "execution_count": 28,
   "id": "74c43229-ef56-49c8-9d09-94bbaaeded43",
   "metadata": {},
   "outputs": [],
   "source": [
    "from elasticsearch import Elasticsearch"
   ]
  },
  {
   "cell_type": "code",
   "execution_count": 29,
   "id": "34c78aa0-0aac-44e1-882c-c7f7d2f40972",
   "metadata": {},
   "outputs": [],
   "source": [
    "es_client = Elasticsearch(\"http://localhost:9200/\")"
   ]
  },
  {
   "cell_type": "code",
   "execution_count": 30,
   "id": "e0bf8ecd-5846-4b4f-b040-faf7f7220c41",
   "metadata": {},
   "outputs": [
    {
     "data": {
      "text/plain": [
       "ObjectApiResponse({'name': 'd21a3ad48565', 'cluster_name': 'docker-cluster', 'cluster_uuid': 'aaOELs7ZTGeNslMjsC3p0Q', 'version': {'number': '8.4.3', 'build_flavor': 'default', 'build_type': 'docker', 'build_hash': '42f05b9372a9a4a470db3b52817899b99a76ee73', 'build_date': '2022-10-04T07:17:24.662462378Z', 'build_snapshot': False, 'lucene_version': '9.3.0', 'minimum_wire_compatibility_version': '7.17.0', 'minimum_index_compatibility_version': '7.0.0'}, 'tagline': 'You Know, for Search'})"
      ]
     },
     "execution_count": 30,
     "metadata": {},
     "output_type": "execute_result"
    }
   ],
   "source": [
    "es_client.info()"
   ]
  },
  {
   "cell_type": "code",
   "execution_count": 31,
   "id": "6d00d173-bb85-46ff-a59f-87a999c5d9b5",
   "metadata": {},
   "outputs": [],
   "source": [
    "query = 'How do I execute a command in a running docker container?'"
   ]
  },
  {
   "cell_type": "code",
   "execution_count": 32,
   "id": "5985570c-0d8a-46e3-a67c-30af34b4653a",
   "metadata": {},
   "outputs": [
    {
     "data": {
      "text/plain": [
       "ObjectApiResponse({'acknowledged': True, 'shards_acknowledged': True, 'index': 'course-homework'})"
      ]
     },
     "execution_count": 32,
     "metadata": {},
     "output_type": "execute_result"
    }
   ],
   "source": [
    "index_settings = {\n",
    "    \"settings\": {\n",
    "        \"number_of_shards\": 1,\n",
    "        \"number_of_replicas\": 0\n",
    "    },\n",
    "    \"mappings\": {\n",
    "        \"properties\": {\n",
    "            \"text\": {\"type\": \"text\"},\n",
    "            \"section\": {\"type\": \"text\"},\n",
    "            \"question\": {\"type\": \"text\"},\n",
    "            \"course\": {\"type\": \"keyword\"} \n",
    "        }\n",
    "    }\n",
    "}\n",
    "\n",
    "index_name = \"course-homework\"\n",
    "\n",
    "es_client.indices.create(index=index_name, body=index_settings)"
   ]
  },
  {
   "cell_type": "code",
   "execution_count": 41,
   "id": "b6656107-4cd5-479f-9e92-e0dfb93bac0a",
   "metadata": {},
   "outputs": [
    {
     "name": "stderr",
     "output_type": "stream",
     "text": [
      "100%|███████████████████████████████████████████████████████████████████████████████████████████████████████████████████████████████████████████████████| 948/948 [00:01<00:00, 534.33it/s]\n"
     ]
    }
   ],
   "source": [
    "for doc in tqdm(documents):\n",
    "    es_client.index(index=index_name, document=doc)"
   ]
  },
  {
   "cell_type": "code",
   "execution_count": 47,
   "id": "72764666-421c-4330-a1b9-d7828222f4b8",
   "metadata": {},
   "outputs": [],
   "source": [
    "response = es_client.search(\n",
    "    index=index_name,\n",
    "    body={\n",
    "        'query': {\n",
    "            'bool': {\n",
    "                'must': {\n",
    "                    'multi_match': {\n",
    "                        'query': query,\n",
    "                        'fields': ['question^4', 'text'],\n",
    "                        'type': 'best_fields'\n",
    "                    }\n",
    "                },\n",
    "                'filter': [\n",
    "                    {'term': {'course': 'machine-learning-zoomcamp'}}\n",
    "                ]\n",
    "            }\n",
    "        }\n",
    "    }\n",
    ")"
   ]
  },
  {
   "cell_type": "code",
   "execution_count": 54,
   "id": "afd1fd1f-95e0-4a3e-9deb-00d131a77c76",
   "metadata": {},
   "outputs": [
    {
     "data": {
      "text/plain": [
       "84.050095"
      ]
     },
     "execution_count": 54,
     "metadata": {},
     "output_type": "execute_result"
    }
   ],
   "source": [
    "response.body['hits']['max_score']"
   ]
  },
  {
   "cell_type": "code",
   "execution_count": 42,
   "id": "dfc6e56e-e04a-43a0-8eea-13ebd845db1d",
   "metadata": {},
   "outputs": [],
   "source": [
    "response = es_client.search(\n",
    "    index=index_name,\n",
    "    body={\n",
    "        'query': {\n",
    "            'bool': {\n",
    "                'must': {\n",
    "                    'multi_match': {\n",
    "                        'query': query,\n",
    "                        'fields': ['question^4', 'text'],\n",
    "                        'type': 'best_fields'\n",
    "                    }\n",
    "                },\n",
    "                'filter': [\n",
    "                    {'term': {'course': 'machine-learning-zoomcamp'}}\n",
    "                ]\n",
    "            }\n",
    "        },\n",
    "        'size': 3  \n",
    "    }\n",
    ")"
   ]
  },
  {
   "cell_type": "code",
   "execution_count": 43,
   "id": "e10d01ab-97b8-46d9-b70f-5f592fa0a152",
   "metadata": {},
   "outputs": [],
   "source": [
    "result_docs = []\n",
    "for hit in response['hits']['hits']:\n",
    "    result_docs.append(hit['_source'])"
   ]
  },
  {
   "cell_type": "code",
   "execution_count": 45,
   "id": "fcbef244-34e1-4096-9644-8d7cac8c5779",
   "metadata": {},
   "outputs": [
    {
     "data": {
      "text/plain": [
       "[{'text': 'Launch the container image in interactive mode and overriding the entrypoint, so that it starts a bash command.\\ndocker run -it --entrypoint bash <image>\\nIf the container is already running, execute a command in the specific container:\\ndocker ps (find the container-id)\\ndocker exec -it <container-id> bash\\n(Marcos MJD)',\n",
       "  'section': '5. Deploying Machine Learning Models',\n",
       "  'question': 'How do I debug a docker container?',\n",
       "  'course': 'machine-learning-zoomcamp'},\n",
       " {'text': \"You can copy files from your local machine into a Docker container using the docker cp command. Here's how to do it:\\nTo copy a file or directory from your local machine into a running Docker container, you can use the `docker cp command`. The basic syntax is as follows:\\ndocker cp /path/to/local/file_or_directory container_id:/path/in/container\\nHrithik Kumar Advani\",\n",
       "  'section': '5. Deploying Machine Learning Models',\n",
       "  'question': 'How do I copy files from my local machine to docker container?',\n",
       "  'course': 'machine-learning-zoomcamp'},\n",
       " {'text': 'You can copy files from your local machine into a Docker container using the docker cp command. Here\\'s how to do it:\\nIn the Dockerfile, you can provide the folder containing the files that you want to copy over. The basic syntax is as follows:\\nCOPY [\"src/predict.py\", \"models/xgb_model.bin\", \"./\"]\\t\\t\\t\\t\\t\\t\\t\\t\\t\\t\\tGopakumar Gopinathan',\n",
       "  'section': '5. Deploying Machine Learning Models',\n",
       "  'question': 'How do I copy files from a different folder into docker container’s working directory?',\n",
       "  'course': 'machine-learning-zoomcamp'}]"
      ]
     },
     "execution_count": 45,
     "metadata": {},
     "output_type": "execute_result"
    }
   ],
   "source": [
    "result_docs"
   ]
  },
  {
   "cell_type": "code",
   "execution_count": 55,
   "id": "393d50b2-56a5-4d2b-994d-9e3ba9655168",
   "metadata": {},
   "outputs": [],
   "source": [
    "def build_prompt(query, search_results):\n",
    "    prompt_template = \"\"\"\n",
    "You're a course teaching assistant. Answer the QUESTION based on the CONTEXT from the FAQ database.\n",
    "Use only the facts from the CONTEXT when answering the QUESTION.\n",
    "\n",
    "QUESTION: {question}\n",
    "\n",
    "CONTEXT:\n",
    "{context}\n",
    "\"\"\".strip()\n",
    "\n",
    "    context = \"\"\n",
    "\n",
    "    for doc in search_results:\n",
    "        context = context + f\"Q: {doc['question']}\\nA: {doc['text']}\\n\\n\"\n",
    "    \n",
    "    prompt = prompt_template.format(question=query, context=context).strip()\n",
    "    return prompt"
   ]
  },
  {
   "cell_type": "code",
   "execution_count": 56,
   "id": "36f6eb2d-b492-46f7-9db9-6e307cb4121b",
   "metadata": {},
   "outputs": [],
   "source": [
    "prompt = build_prompt(query, result_docs)"
   ]
  },
  {
   "cell_type": "code",
   "execution_count": 57,
   "id": "8caa4200-7c6d-44e8-869f-a3f54c27e8dc",
   "metadata": {},
   "outputs": [
    {
     "data": {
      "text/plain": [
       "1462"
      ]
     },
     "execution_count": 57,
     "metadata": {},
     "output_type": "execute_result"
    }
   ],
   "source": [
    "len(prompt)"
   ]
  },
  {
   "cell_type": "code",
   "execution_count": 59,
   "id": "6929e7f5-f232-4ac9-b8a7-7e0c333a20b4",
   "metadata": {},
   "outputs": [
    {
     "data": {
      "text/plain": [
       "322"
      ]
     },
     "execution_count": 59,
     "metadata": {},
     "output_type": "execute_result"
    }
   ],
   "source": [
    "encoding = tiktoken.encoding_for_model(\"gpt-4o\")\n",
    "token = encoding.encode(prompt)\n",
    "len(token)"
   ]
  },
  {
   "cell_type": "code",
   "execution_count": 61,
   "id": "e2fa7658-7867-4c3c-911b-22e3eb020163",
   "metadata": {},
   "outputs": [],
   "source": [
    "client = OpenAI(\n",
    "    base_url='http://localhost:11434/v1/',\n",
    "    api_key='ollama',\n",
    ")"
   ]
  },
  {
   "cell_type": "code",
   "execution_count": 62,
   "id": "a630a79f-862c-497c-87fc-0221af9ce0e4",
   "metadata": {},
   "outputs": [],
   "source": [
    "response = client.chat.completions.create(model='phi3',messages=[{'role':'user','content': prompt }])"
   ]
  },
  {
   "cell_type": "code",
   "execution_count": 72,
   "id": "92dab036-b458-4921-8e8e-abac55e81341",
   "metadata": {},
   "outputs": [
    {
     "data": {
      "text/plain": [
       "\" To execute a command in a running docker container, you can use the `docker exec` command with the `-it` option for interactive mode and specifying the container-id. Here's how to do it:\\n\\n1. First, ensure that your container is running using the following command to get its ID:\\n   ```\\n   docker ps (find the container-id)\\n   ```\\n\\n2. Then, execute a command in the specific container by replacing `<container-id>` with the actual id you obtained from the previous step:\\n   ```\\n   docker exec -it <container-id> bash\\n   ```\""
      ]
     },
     "execution_count": 72,
     "metadata": {},
     "output_type": "execute_result"
    }
   ],
   "source": [
    "response.choices[0].message.content"
   ]
  },
  {
   "cell_type": "code",
   "execution_count": null,
   "id": "615c04b4-df02-4847-9712-c404598348c5",
   "metadata": {},
   "outputs": [],
   "source": []
  }
 ],
 "metadata": {
  "kernelspec": {
   "display_name": "llm",
   "language": "python",
   "name": "llm"
  },
  "language_info": {
   "codemirror_mode": {
    "name": "ipython",
    "version": 3
   },
   "file_extension": ".py",
   "mimetype": "text/x-python",
   "name": "python",
   "nbconvert_exporter": "python",
   "pygments_lexer": "ipython3",
   "version": "3.9.6"
  }
 },
 "nbformat": 4,
 "nbformat_minor": 5
}
